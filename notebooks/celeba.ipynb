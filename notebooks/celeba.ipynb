{
 "cells": [
  {
   "cell_type": "markdown",
   "id": "19e42974",
   "metadata": {},
   "source": [
    "## Подготовка данных\n",
    "В `list_attr_celeba.txt`находится множество данных, которые можно использовать для различных задач. Я выбрал классифицировать фотографии на содержащие улыбку и не содержащие. \n",
    "Также необходимо преобразовать изображения из `jpg` формата в вектора и сохранить в удобном формате. "
   ]
  },
  {
   "cell_type": "code",
   "execution_count": null,
   "id": "ff7f5270",
   "metadata": {},
   "outputs": [],
   "source": [
    "import pandas as pd\n",
    "import numpy as np\n",
    "import tqdm\n",
    "\n",
    "from PIL import Image"
   ]
  },
  {
   "cell_type": "code",
   "execution_count": null,
   "id": "baa6d44b",
   "metadata": {},
   "outputs": [],
   "source": [
    "attr = pd.read_csv(\"../data_storage/list_attr_celeba.txt\", delim_whitespace=True, header=1)"
   ]
  },
  {
   "cell_type": "code",
   "execution_count": null,
   "id": "2edce980",
   "metadata": {},
   "outputs": [],
   "source": [
    "attr.head()"
   ]
  },
  {
   "cell_type": "code",
   "execution_count": null,
   "id": "8e10988a",
   "metadata": {},
   "outputs": [],
   "source": [
    "smiling = attr['Smiling'].dropna()"
   ]
  },
  {
   "cell_type": "markdown",
   "id": "33ab5afa",
   "metadata": {},
   "source": [
    "Для удобства перевожу метки из -1..1 в 0..1"
   ]
  },
  {
   "cell_type": "code",
   "execution_count": null,
   "id": "f60aa323",
   "metadata": {},
   "outputs": [],
   "source": [
    "smiling = (smiling + 1 ) / 2\n",
    "smiling = smiling.dropna()\n",
    "print(smiling.unique())"
   ]
  },
  {
   "cell_type": "code",
   "execution_count": null,
   "id": "444bb284",
   "metadata": {},
   "outputs": [],
   "source": [
    "## Так как у меня мало памяти, ограничусь 1000 картинок и возьму среднее по RGB каналам, а также центр 50 на 50\n",
    "dataset = []\n",
    "for img_index, label in tqdm.tqdm(zip(smiling.index[:1001], smiling[:1001])):\n",
    "    img = np.asarray(Image.open(f'../data_storage/img_celeba/{img_index}'))\n",
    "    dataset.append(np.append(img[img.shape[0] // 2 : img.shape[0] // 2 + 50, img.shape[1] // 2: img.shape[1] // 2 + 50,:].mean(-1)/255,label))"
   ]
  },
  {
   "cell_type": "code",
   "execution_count": null,
   "id": "f8a0403e",
   "metadata": {},
   "outputs": [],
   "source": [
    "with open('../data_storage/train_data.csv','w') as f:\n",
    "    for d in tqdm.tqdm(dataset[:900]):\n",
    "        f.write(','.join([\"{:.3f}\".format(x) for x in d]).strip() + '\\n')\n",
    "with open('../data_storage/test_data.csv','w') as f:\n",
    "    for d in tqdm.tqdm(dataset[901:]):\n",
    "        f.write(','.join([\"{:.3f}\".format(x)  for x in d]).strip() + '\\n')\n",
    "        "
   ]
  },
  {
   "cell_type": "markdown",
   "id": "b84ce2d1",
   "metadata": {},
   "source": [
    "## Загрузка данных и обучение модели"
   ]
  },
  {
   "cell_type": "code",
   "execution_count": null,
   "id": "33855ae2",
   "metadata": {},
   "outputs": [],
   "source": [
    "train_data = pd.read_csv('../data_storage/train_data.csv',header=None).dropna()\n",
    "test_data = pd.read_csv('../data_storage/test_data.csv',header=None).dropna()"
   ]
  },
  {
   "cell_type": "code",
   "execution_count": null,
   "id": "11a96db4",
   "metadata": {},
   "outputs": [],
   "source": [
    "X_train, y_train = train_data.drop(2500,axis=1), train_data[2500].astype(int)\n",
    "X_test, y_test = test_data.drop(2500,axis=1), test_data[2500].astype(int)"
   ]
  },
  {
   "cell_type": "code",
   "execution_count": null,
   "id": "23820e14",
   "metadata": {},
   "outputs": [],
   "source": [
    "from sklearn.ensemble import RandomForestClassifier\n",
    "classifier = RandomForestClassifier(n_estimators=1000, min_samples_split=1 )"
   ]
  },
  {
   "cell_type": "code",
   "execution_count": null,
   "id": "c90dd1a8",
   "metadata": {},
   "outputs": [],
   "source": [
    "classifier.fit(X_train, y_train)"
   ]
  },
  {
   "cell_type": "code",
   "execution_count": null,
   "id": "52d53f64",
   "metadata": {},
   "outputs": [],
   "source": [
    "classifier.score(X_test, y_test)"
   ]
  },
  {
   "cell_type": "code",
   "execution_count": null,
   "id": "4fd0de61",
   "metadata": {},
   "outputs": [],
   "source": [
    "from sklearn.ensemble import GradientBoostingClassifier\n",
    "classifier = GradientBoostingClassifier(n_estimators=200, learning_rate=1e-3,max_depth=4, random_state=0,\n",
    "                                        max_features='sqrt')"
   ]
  },
  {
   "cell_type": "code",
   "execution_count": null,
   "id": "c44cb8f9",
   "metadata": {},
   "outputs": [],
   "source": [
    "classifier.fit(X_train, y_train)"
   ]
  },
  {
   "cell_type": "code",
   "execution_count": null,
   "id": "93402028",
   "metadata": {},
   "outputs": [],
   "source": [
    "classifier.score(X_test, y_test)"
   ]
  },
  {
   "cell_type": "markdown",
   "id": "3ffd7556",
   "metadata": {},
   "source": [
    "## Получилось не очень, но немного лучше, чем случайное предсказание. Тк попросили классический МЛ, а я не совсем знаю, что делать с большими картинками в таком случае, оставлю так"
   ]
  }
 ],
 "metadata": {
  "kernelspec": {
   "display_name": "Python 3 (ipykernel)",
   "language": "python",
   "name": "python3"
  },
  "language_info": {
   "codemirror_mode": {
    "name": "ipython",
    "version": 3
   },
   "file_extension": ".py",
   "mimetype": "text/x-python",
   "name": "python",
   "nbconvert_exporter": "python",
   "pygments_lexer": "ipython3",
   "version": "3.10.8"
  }
 },
 "nbformat": 4,
 "nbformat_minor": 5
}
